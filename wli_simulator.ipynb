{
 "cells": [
  {
   "cell_type": "markdown",
   "id": "e904397d",
   "metadata": {},
   "source": [
    "# White Light Interferogram Simulator\n"
   ]
  },
  {
   "cell_type": "code",
   "execution_count": 2,
   "id": "6e3d13c8",
   "metadata": {},
   "outputs": [],
   "source": [
    "\n",
    "import numpy as np\n",
    "import matplotlib.pyplot as plt\n",
    "import csv\n"
   ]
  },
  {
   "cell_type": "markdown",
   "id": "2a68b7d2-8fb2-4733-bb5d-8e27fb223eae",
   "metadata": {},
   "source": [
    "###  Load heightmap from CSV"
   ]
  },
  {
   "cell_type": "code",
   "execution_count": 3,
   "id": "b954c093",
   "metadata": {},
   "outputs": [
    {
     "name": "stdout",
     "output_type": "stream",
     "text": [
      "Using synthetic Gaussian surface\n"
     ]
    }
   ],
   "source": [
    "\n",
    "def load_heightmap(filename=\"heightmap.csv\"):\n",
    "    data = []\n",
    "    with open(filename, \"r\") as f:\n",
    "        reader = csv.DictReader(f)\n",
    "        for row in reader:\n",
    "            data.append([float(row[\"z\"]), int(row[\"x\"]), int(row[\"y\"])])\n",
    "\n",
    "    max_x = max(d[1] for d in data) + 1\n",
    "    max_y = max(d[2] for d in data) + 1\n",
    "    Z = np.zeros((max_y, max_x))\n",
    "    for z, x, y in data:\n",
    "        Z[y, x] = z\n",
    "    return Z\n",
    "\n",
    "try:\n",
    "    heightmap = load_heightmap(\"heightmap.csv\")\n",
    "    print(\"Loaded heightmap.csv\")\n",
    "except FileNotFoundError:\n",
    "    # fallback surface\n",
    "    size = 64\n",
    "    x = np.linspace(-1, 1, size)\n",
    "    X, Y = np.meshgrid(x, x)\n",
    "    heightmap = 0.5 * np.exp(-(X**2 + Y**2) / 0.2)\n",
    "    print(\"Using synthetic Gaussian surface\")\n"
   ]
  },
  {
   "cell_type": "markdown",
   "id": "6d9593fa-6c80-40e5-8c59-3b2f7e868ada",
   "metadata": {},
   "source": [
    "### WLI Simulation Parameters"
   ]
  },
  {
   "cell_type": "code",
   "execution_count": 4,
   "id": "540525da-92bc-4ca0-bf7f-636856f49b53",
   "metadata": {},
   "outputs": [],
   "source": [
    "\n",
    "lambda0 = 600.0   # central wavelength (nm)\n",
    "Lc = 100.0        # coherence length (nm)\n",
    "s_range = np.linspace(-300, 300, 200)  # reference mirror scan (nm)"
   ]
  },
  {
   "cell_type": "markdown",
   "id": "236c0b68-0c26-4b5b-afea-02757c03c74d",
   "metadata": {},
   "source": [
    "### Simulating a White light Interferogram"
   ]
  },
  {
   "cell_type": "code",
   "execution_count": 5,
   "id": "7d116708",
   "metadata": {},
   "outputs": [],
   "source": [
    "\n",
    "def simulate_interferogram(z_surface, lambda0=600.0, Lc=100.0, s_range=None):# default values are given.\n",
    "    \"\"\"\n",
    "    Simulate white light interferogram for a given surface.\n",
    "\n",
    "    z_surface : 2D numpy array (heightmap, arbitrary units)\n",
    "    lambda0   : central wavelength (nm)\n",
    "    Lc        : coherence length (nm)\n",
    "    s_range   : 1D array of reference mirror positions (nm)\n",
    "    \"\"\"\n",
    "    if s_range is None:\n",
    "        s_range = np.linspace(-300, 300, 200) #default values for s_range\n",
    "\n",
    "   "
   ]
  },
  {
   "cell_type": "markdown",
   "id": "77ed96c8-d053-4fe6-a5b7-0a9d6adafc80",
   "metadata": {},
   "source": [
    "#### Convert height to nm scale\n"
   ]
  },
  {
   "cell_type": "code",
   "execution_count": 6,
   "id": "d99e872c-148c-44e1-87e2-4e0c116cb5ba",
   "metadata": {},
   "outputs": [
    {
     "ename": "NameError",
     "evalue": "name 'z_surface' is not defined",
     "output_type": "error",
     "traceback": [
      "\u001b[31m---------------------------------------------------------------------------\u001b[39m",
      "\u001b[31mNameError\u001b[39m                                 Traceback (most recent call last)",
      "\u001b[36mCell\u001b[39m\u001b[36m \u001b[39m\u001b[32mIn[6]\u001b[39m\u001b[32m, line 1\u001b[39m\n\u001b[32m----> \u001b[39m\u001b[32m1\u001b[39m z_surface_nm = \u001b[32m100\u001b[39m * \u001b[43mz_surface\u001b[49m   \u001b[38;5;66;03m# scale to nm (adjust as needed)\u001b[39;00m\n",
      "\u001b[31mNameError\u001b[39m: name 'z_surface' is not defined"
     ]
    }
   ],
   "source": [
    "z_surface_nm = 100 * z_surface   # scale to nm (adjust as needed)"
   ]
  },
  {
   "cell_type": "markdown",
   "id": "f5f3ab96-0761-402a-81d4-3e16b02403d8",
   "metadata": {},
   "source": [
    "#### Expand for broadcasting\n"
   ]
  },
  {
   "cell_type": "code",
   "execution_count": null,
   "id": "6fbc69ec-e122-4a47-a583-d184299c03f4",
   "metadata": {},
   "outputs": [
    {
     "ename": "NameError",
     "evalue": "name 'z_surface_nm' is not defined",
     "output_type": "error",
     "traceback": [
      "\u001b[31m---------------------------------------------------------------------------\u001b[39m",
      "\u001b[31mNameError\u001b[39m                                 Traceback (most recent call last)",
      "\u001b[36mCell\u001b[39m\u001b[36m \u001b[39m\u001b[32mIn[9]\u001b[39m\u001b[32m, line 1\u001b[39m\n\u001b[32m----> \u001b[39m\u001b[32m1\u001b[39m z_exp = \u001b[43mz_surface_nm\u001b[49m[:, :, np.newaxis]         \u001b[38;5;66;03m# (x, y, 1)\u001b[39;00m\n\u001b[32m      2\u001b[39m s_exp = s_range[np.newaxis, np.newaxis, :]     \u001b[38;5;66;03m# (1, 1, s)\u001b[39;00m\n",
      "\u001b[31mNameError\u001b[39m: name 'z_surface_nm' is not defined"
     ]
    }
   ],
   "source": [
    "    z_exp = z_surface_nm[:, :, np.newaxis]         # (x, y, 1)\n",
    "    s_exp = s_range[np.newaxis, np.newaxis, :]     # (1, 1, s)\n",
    "\n",
    "    "
   ]
  },
  {
   "cell_type": "markdown",
   "id": "57d29056-047c-4a7a-87a4-e5db5784cb80",
   "metadata": {},
   "source": [
    "#### Optical path difference </br>\n",
    "   $$\n",
    "   OPD = 2 \\cdot (z_{exp} - s_{exp})\n",
    "   $$\n"
   ]
  },
  {
   "cell_type": "code",
   "execution_count": null,
   "id": "23454c03-fa30-47a6-920c-014ed00c0a66",
   "metadata": {},
   "outputs": [
    {
     "ename": "NameError",
     "evalue": "name 'z_exp' is not defined",
     "output_type": "error",
     "traceback": [
      "\u001b[31m---------------------------------------------------------------------------\u001b[39m",
      "\u001b[31mNameError\u001b[39m                                 Traceback (most recent call last)",
      "\u001b[36mCell\u001b[39m\u001b[36m \u001b[39m\u001b[32mIn[10]\u001b[39m\u001b[32m, line 1\u001b[39m\n\u001b[32m----> \u001b[39m\u001b[32m1\u001b[39m OPD = \u001b[32m2\u001b[39m * (\u001b[43mz_exp\u001b[49m - s_exp)    \n",
      "\u001b[31mNameError\u001b[39m: name 'z_exp' is not defined"
     ]
    }
   ],
   "source": [
    "    OPD = 2 * (z_exp - s_exp)    "
   ]
  },
  {
   "cell_type": "markdown",
   "id": "82f15c76-eae6-4077-aa9d-92d8e619f1c3",
   "metadata": {},
   "source": [
    "#### Degree of coherence (Gaussian envelope)\n",
    "$$\n",
    "\\gamma = \\exp\\!\\left(-\\frac{OPD^2}{2 \\, L_c^2}\\right)\n",
    "$$"
   ]
  },
  {
   "cell_type": "code",
   "execution_count": null,
   "id": "47c44f46-4660-49bd-b9ee-bcec31deb61d",
   "metadata": {},
   "outputs": [
    {
     "ename": "NameError",
     "evalue": "name 'OPD' is not defined",
     "output_type": "error",
     "traceback": [
      "\u001b[31m---------------------------------------------------------------------------\u001b[39m",
      "\u001b[31mNameError\u001b[39m                                 Traceback (most recent call last)",
      "\u001b[36mCell\u001b[39m\u001b[36m \u001b[39m\u001b[32mIn[11]\u001b[39m\u001b[32m, line 1\u001b[39m\n\u001b[32m----> \u001b[39m\u001b[32m1\u001b[39m gamma = np.exp(-(\u001b[43mOPD\u001b[49m**\u001b[32m2\u001b[39m) / (\u001b[32m2\u001b[39m * Lc**\u001b[32m2\u001b[39m))\n",
      "\u001b[31mNameError\u001b[39m: name 'OPD' is not defined"
     ]
    }
   ],
   "source": [
    "    gamma = np.exp(-(OPD**2) / (2 * Lc**2))"
   ]
  },
  {
   "cell_type": "markdown",
   "id": "74a18d58-dcaf-427c-a15a-4aba946eef30",
   "metadata": {},
   "source": [
    "#### Interferogram intensity\n",
    "$$\n",
    "I = 1 + \\gamma \\cdot \\cos\\!\\left(\\frac{2 \\pi}{\\lambda_0} \\, OPD\\right)\n",
    "$$\n"
   ]
  },
  {
   "cell_type": "code",
   "execution_count": null,
   "id": "9b502c21-437f-469e-a2b2-1a8341e76021",
   "metadata": {},
   "outputs": [
    {
     "ename": "NameError",
     "evalue": "name 'gamma' is not defined",
     "output_type": "error",
     "traceback": [
      "\u001b[31m---------------------------------------------------------------------------\u001b[39m",
      "\u001b[31mNameError\u001b[39m                                 Traceback (most recent call last)",
      "\u001b[36mCell\u001b[39m\u001b[36m \u001b[39m\u001b[32mIn[12]\u001b[39m\u001b[32m, line 1\u001b[39m\n\u001b[32m----> \u001b[39m\u001b[32m1\u001b[39m I = \u001b[32m1\u001b[39m + \u001b[43mgamma\u001b[49m * np.cos((\u001b[32m2\u001b[39m * np.pi / lambda0) * OPD)\n\u001b[32m      2\u001b[39m \u001b[38;5;28;01mreturn\u001b[39;00m I, s_range\n",
      "\u001b[31mNameError\u001b[39m: name 'gamma' is not defined"
     ]
    }
   ],
   "source": [
    "    I = 1 + gamma * np.cos((2 * np.pi / lambda0) * OPD)\n",
    "    return I, s_range"
   ]
  },
  {
   "cell_type": "markdown",
   "id": "ad6bc913-a20a-4b67-9b34-b95b037cc69b",
   "metadata": {},
   "source": [
    "#### Run Simulation\n"
   ]
  },
  {
   "cell_type": "code",
   "execution_count": null,
   "id": "016d3ce1",
   "metadata": {},
   "outputs": [
    {
     "ename": "TypeError",
     "evalue": "cannot unpack non-iterable NoneType object",
     "output_type": "error",
     "traceback": [
      "\u001b[31m---------------------------------------------------------------------------\u001b[39m",
      "\u001b[31mTypeError\u001b[39m                                 Traceback (most recent call last)",
      "\u001b[36mCell\u001b[39m\u001b[36m \u001b[39m\u001b[32mIn[13]\u001b[39m\u001b[32m, line 1\u001b[39m\n\u001b[32m----> \u001b[39m\u001b[32m1\u001b[39m I, s_range = simulate_interferogram(heightmap, lambda0, Lc, s_range)\n",
      "\u001b[31mTypeError\u001b[39m: cannot unpack non-iterable NoneType object"
     ]
    }
   ],
   "source": [
    "I, s_range = simulate_interferogram(heightmap, lambda0, Lc, s_range)"
   ]
  },
  {
   "cell_type": "markdown",
   "id": "cb262201-f84c-48ba-b70b-99d4238bbafc",
   "metadata": {},
   "source": [
    "#### Surface heightmap"
   ]
  },
  {
   "cell_type": "code",
   "execution_count": null,
   "id": "021e1b5c",
   "metadata": {},
   "outputs": [
    {
     "data": {
      "image/png": "[encoded data removed]",
      "text/plain": [
       "<Figure size 640x480 with 2 Axes>"
      ]
     },
     "metadata": {},
     "output_type": "display_data"
    }
   ],
   "source": [
    "plt.imshow(heightmap, cmap=\"viridis\")\n",
    "plt.colorbar(label=\"Height (arb. units)\")\n",
    "plt.title(\"Surface Heightmap\")\n",
    "plt.show()"
   ]
  },
  {
   "cell_type": "markdown",
   "id": "05d2e6ac-ab99-4b40-9cec-d7430d994f8b",
   "metadata": {},
   "source": [
    "#### One interferogram slice (fixed mirror position)\n"
   ]
  },
  {
   "cell_type": "code",
   "execution_count": null,
   "id": "cc63a6d5",
   "metadata": {},
   "outputs": [
    {
     "ename": "NameError",
     "evalue": "name 'I' is not defined",
     "output_type": "error",
     "traceback": [
      "\u001b[31m---------------------------------------------------------------------------\u001b[39m",
      "\u001b[31mNameError\u001b[39m                                 Traceback (most recent call last)",
      "\u001b[36mCell\u001b[39m\u001b[36m \u001b[39m\u001b[32mIn[16]\u001b[39m\u001b[32m, line 2\u001b[39m\n\u001b[32m      1\u001b[39m idx = \u001b[38;5;28mlen\u001b[39m(s_range) // \u001b[32m2\u001b[39m\n\u001b[32m----> \u001b[39m\u001b[32m2\u001b[39m plt.imshow(\u001b[43mI\u001b[49m[:, :, idx], cmap=\u001b[33m\"\u001b[39m\u001b[33mgray\u001b[39m\u001b[33m\"\u001b[39m)\n\u001b[32m      3\u001b[39m plt.title(\u001b[33mf\u001b[39m\u001b[33m\"\u001b[39m\u001b[33mInterferogram at s = \u001b[39m\u001b[38;5;132;01m{\u001b[39;00ms_range[idx]\u001b[38;5;132;01m:\u001b[39;00m\u001b[33m.1f\u001b[39m\u001b[38;5;132;01m}\u001b[39;00m\u001b[33m nm\u001b[39m\u001b[33m\"\u001b[39m)\n\u001b[32m      4\u001b[39m plt.colorbar(label=\u001b[33m\"\u001b[39m\u001b[33mIntensity\u001b[39m\u001b[33m\"\u001b[39m)\n",
      "\u001b[31mNameError\u001b[39m: name 'I' is not defined"
     ]
    }
   ],
   "source": [
    "idx = len(s_range) // 2\n",
    "plt.imshow(I[:, :, idx], cmap=\"gray\")\n",
    "plt.title(f\"Interferogram at s = {s_range[idx]:.1f} nm\")\n",
    "plt.colorbar(label=\"Intensity\")\n",
    "plt.show()"
   ]
  },
  {
   "cell_type": "markdown",
   "id": "61821b9b-0148-4061-8aca-fdf56c7a31ee",
   "metadata": {},
   "source": [
    "#### Example waveform at a single pixel"
   ]
  },
  {
   "cell_type": "code",
   "execution_count": null,
   "id": "fe42e7fe",
   "metadata": {},
   "outputs": [
    {
     "ename": "NameError",
     "evalue": "name 'I' is not defined",
     "output_type": "error",
     "traceback": [
      "\u001b[31m---------------------------------------------------------------------------\u001b[39m",
      "\u001b[31mNameError\u001b[39m                                 Traceback (most recent call last)",
      "\u001b[36mCell\u001b[39m\u001b[36m \u001b[39m\u001b[32mIn[17]\u001b[39m\u001b[32m, line 2\u001b[39m\n\u001b[32m      1\u001b[39m px, py = heightmap.shape[\u001b[32m0\u001b[39m]//\u001b[32m2\u001b[39m, heightmap.shape[\u001b[32m1\u001b[39m]//\u001b[32m2\u001b[39m\n\u001b[32m----> \u001b[39m\u001b[32m2\u001b[39m plt.plot(s_range, \u001b[43mI\u001b[49m[px, py, :])\n\u001b[32m      3\u001b[39m plt.xlabel(\u001b[33m\"\u001b[39m\u001b[33mReference Mirror Position s (nm)\u001b[39m\u001b[33m\"\u001b[39m)\n\u001b[32m      4\u001b[39m plt.ylabel(\u001b[33m\"\u001b[39m\u001b[33mIntensity\u001b[39m\u001b[33m\"\u001b[39m)\n",
      "\u001b[31mNameError\u001b[39m: name 'I' is not defined"
     ]
    }
   ],
   "source": [
    "px, py = heightmap.shape[0]//2, heightmap.shape[1]//2\n",
    "plt.plot(s_range, I[px, py, :])\n",
    "plt.xlabel(\"Reference Mirror Position s (nm)\")\n",
    "plt.ylabel(\"Intensity\")\n",
    "plt.title(f\"Waveform at pixel ({px},{py})\")\n",
    "plt.show()"
   ]
  },
  {
   "cell_type": "code",
   "execution_count": null,
   "id": "56968e58-a54f-4df7-9f8f-b4a5751cd276",
   "metadata": {},
   "outputs": [],
   "source": []
  }
 ],
 "metadata": {
  "kernelspec": {
   "display_name": "Python 3",
   "language": "python",
   "name": "python3"
  },
  "language_info": {
   "codemirror_mode": {
    "name": "ipython",
    "version": 3
   },
   "file_extension": ".py",
   "mimetype": "text/x-python",
   "name": "python",
   "nbconvert_exporter": "python",
   "pygments_lexer": "ipython3",
   "version": "3.13.7"
  }
 },
 "nbformat": 4,
 "nbformat_minor": 5
}
