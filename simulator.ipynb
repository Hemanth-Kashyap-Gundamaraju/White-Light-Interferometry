{
 "cells": [
  {
   "cell_type": "code",
   "execution_count": 6,
   "id": "ca8c6272-08f1-4fce-8999-da17ecfbc15b",
   "metadata": {},
   "outputs": [],
   "source": [
    "import numpy as np\n",
    "import matplotlib.pyplot as plt"
   ]
  },
  {
   "cell_type": "code",
   "execution_count": null,
   "id": "0514fac0-2628-49f1-80d5-30d2e1fe1409",
   "metadata": {},
   "outputs": [],
   "source": [
    "def gen_wli():\n",
    "    "
   ]
  },
  {
   "cell_type": "markdown",
   "id": "c6c6fca6-ce39-4d81-86e1-b6a6749d1e68",
   "metadata": {},
   "source": []
  },
  {
   "cell_type": "markdown",
   "id": "7366f3e3-b521-49e6-a9da-01aada4ea67e",
   "metadata": {},
   "source": [
    "\n"
   ]
  },
  {
   "cell_type": "markdown",
   "id": "d7afefa4-fb28-4fc4-a005-457b8ea6c6bf",
   "metadata": {},
   "source": []
  }
 ],
 "metadata": {
  "kernelspec": {
   "display_name": "Python 3 (ipykernel)",
   "language": "python",
   "name": "python3"
  },
  "language_info": {
   "codemirror_mode": {
    "name": "ipython",
    "version": 3
   },
   "file_extension": ".py",
   "mimetype": "text/x-python",
   "name": "python",
   "nbconvert_exporter": "python",
   "pygments_lexer": "ipython3",
   "version": "3.13.7"
  }
 },
 "nbformat": 4,
 "nbformat_minor": 5
}
