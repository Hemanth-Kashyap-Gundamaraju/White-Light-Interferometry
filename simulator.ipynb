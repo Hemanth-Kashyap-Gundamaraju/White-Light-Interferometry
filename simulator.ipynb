{
 "cells": [
  {
   "cell_type": "code",
   "execution_count": 6,
   "id": "ca8c6272-08f1-4fce-8999-da17ecfbc15b",
   "metadata": {},
   "outputs": [],
   "source": [
    "import numpy as np\n",
    "import matplotlib.pyplot as plt"
   ]
  },
  {
   "cell_type": "markdown",
   "id": "e42f2ef3-fb45-42f9-8727-837fc3e42c5e",
   "metadata": {},
   "source": [
    "<head>Physics Of White light Interferometry</head>\n",
    "<body></body>"
   ]
  },
  {
   "cell_type": "code",
   "execution_count": null,
   "id": "0514fac0-2628-49f1-80d5-30d2e1fe1409",
   "metadata": {},
   "outputs": [],
   "source": [
    "def gen_wli():\n",
    "    "
   ]
  }
 ],
 "metadata": {
  "kernelspec": {
   "display_name": "Python 3 (ipykernel)",
   "language": "python",
   "name": "python3"
  },
  "language_info": {
   "codemirror_mode": {
    "name": "ipython",
    "version": 3
   },
   "file_extension": ".py",
   "mimetype": "text/x-python",
   "name": "python",
   "nbconvert_exporter": "python",
   "pygments_lexer": "ipython3",
   "version": "3.13.7"
  }
 },
 "nbformat": 4,
 "nbformat_minor": 5
}
