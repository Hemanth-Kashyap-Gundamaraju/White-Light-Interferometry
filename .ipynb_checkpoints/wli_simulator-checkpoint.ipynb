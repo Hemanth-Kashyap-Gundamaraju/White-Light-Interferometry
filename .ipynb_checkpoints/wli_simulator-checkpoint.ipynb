{
 "cells": [
  {
   "cell_type": "markdown",
   "id": "e904397d",
   "metadata": {},
   "source": [
    "# White Light Interferogram Simulator\n",
    "This notebook simulates interferograms for a given surface heightmap."
   ]
  },
  {
   "cell_type": "code",
   "execution_count": null,
   "id": "6e3d13c8",
   "metadata": {},
   "outputs": [],
   "source": [
    "\n",
    "import numpy as np\n",
    "import matplotlib.pyplot as plt\n",
    "import csv\n"
   ]
  },
  {
   "cell_type": "code",
   "execution_count": null,
   "id": "b954c093",
   "metadata": {},
   "outputs": [],
   "source": [
    "\n",
    "# --------------------------\n",
    "# Load heightmap from CSV\n",
    "# --------------------------\n",
    "def load_heightmap(filename=\"heightmap.csv\"):\n",
    "    data = []\n",
    "    with open(filename, \"r\") as f:\n",
    "        reader = csv.DictReader(f)\n",
    "        for row in reader:\n",
    "            data.append([float(row[\"z\"]), int(row[\"x\"]), int(row[\"y\"])])\n",
    "\n",
    "    max_x = max(d[1] for d in data) + 1\n",
    "    max_y = max(d[2] for d in data) + 1\n",
    "    Z = np.zeros((max_y, max_x))\n",
    "    for z, x, y in data:\n",
    "        Z[y, x] = z\n",
    "    return Z\n",
    "\n",
    "try:\n",
    "    heightmap = load_heightmap(\"heightmap.csv\")\n",
    "    print(\"Loaded heightmap.csv\")\n",
    "except FileNotFoundError:\n",
    "    # fallback surface\n",
    "    size = 64\n",
    "    x = np.linspace(-1, 1, size)\n",
    "    X, Y = np.meshgrid(x, x)\n",
    "    heightmap = 0.5 * np.exp(-(X**2 + Y**2) / 0.2)\n",
    "    print(\"Using synthetic Gaussian surface\")\n"
   ]
  },
  {
   "cell_type": "code",
   "execution_count": null,
   "id": "7d116708",
   "metadata": {},
   "outputs": [],
   "source": [
    "\n",
    "# --------------------------\n",
    "# WLI Simulation Parameters\n",
    "# --------------------------\n",
    "lambda0 = 600.0   # central wavelength (nm)\n",
    "Lc = 100.0        # coherence length (nm)\n",
    "s_range = np.linspace(-300, 300, 200)  # reference mirror scan (nm)\n",
    "\n",
    "def simulate_interferogram(z_surface, lambda0=600.0, Lc=100.0, s_range=None):\n",
    "    \"\"\"\n",
    "    Simulate white light interferogram for a given surface.\n",
    "\n",
    "    z_surface : 2D numpy array (heightmap, arbitrary units)\n",
    "    lambda0   : central wavelength (nm)\n",
    "    Lc        : coherence length (nm)\n",
    "    s_range   : 1D array of reference mirror positions (nm)\n",
    "    \"\"\"\n",
    "    if s_range is None:\n",
    "        s_range = np.linspace(-300, 300, 200)\n",
    "\n",
    "    # Convert height to nm scale\n",
    "    z_surface_nm = 100 * z_surface   # scale to nm (adjust as needed)\n",
    "\n",
    "    # Expand for broadcasting\n",
    "    z_exp = z_surface_nm[:, :, np.newaxis]         # (x, y, 1)\n",
    "    s_exp = s_range[np.newaxis, np.newaxis, :]     # (1, 1, s)\n",
    "\n",
    "    # Optical path difference\n",
    "    OPD = 2 * (z_exp - s_exp)\n",
    "\n",
    "    # Degree of coherence (Gaussian envelope)\n",
    "    gamma = np.exp(-(OPD**2) / (2 * Lc**2))\n",
    "\n",
    "    # Interferogram intensity\n",
    "    I = 1 + gamma * np.cos((2 * np.pi / lambda0) * OPD)\n",
    "\n",
    "    return I, s_range\n"
   ]
  },
  {
   "cell_type": "code",
   "execution_count": null,
   "id": "016d3ce1",
   "metadata": {},
   "outputs": [],
   "source": [
    "\n",
    "# --------------------------\n",
    "# Run Simulation\n",
    "# --------------------------\n",
    "I, s_range = simulate_interferogram(heightmap, lambda0, Lc, s_range)\n"
   ]
  },
  {
   "cell_type": "code",
   "execution_count": null,
   "id": "021e1b5c",
   "metadata": {},
   "outputs": [],
   "source": [
    "\n",
    "# Surface heightmap\n",
    "plt.imshow(heightmap, cmap=\"viridis\")\n",
    "plt.colorbar(label=\"Height (arb. units)\")\n",
    "plt.title(\"Surface Heightmap\")\n",
    "plt.show()\n"
   ]
  },
  {
   "cell_type": "code",
   "execution_count": null,
   "id": "cc63a6d5",
   "metadata": {},
   "outputs": [],
   "source": [
    "\n",
    "# One interferogram slice (fixed mirror position)\n",
    "idx = len(s_range) // 2\n",
    "plt.imshow(I[:, :, idx], cmap=\"gray\")\n",
    "plt.title(f\"Interferogram at s = {s_range[idx]:.1f} nm\")\n",
    "plt.colorbar(label=\"Intensity\")\n",
    "plt.show()\n"
   ]
  },
  {
   "cell_type": "code",
   "execution_count": null,
   "id": "fe42e7fe",
   "metadata": {},
   "outputs": [],
   "source": [
    "\n",
    "# Example waveform at a single pixel\n",
    "px, py = heightmap.shape[0]//2, heightmap.shape[1]//2\n",
    "plt.plot(s_range, I[px, py, :])\n",
    "plt.xlabel(\"Reference Mirror Position s (nm)\")\n",
    "plt.ylabel(\"Intensity\")\n",
    "plt.title(f\"Waveform at pixel ({px},{py})\")\n",
    "plt.show()\n"
   ]
  }
 ],
 "metadata": {},
 "nbformat": 4,
 "nbformat_minor": 5
}